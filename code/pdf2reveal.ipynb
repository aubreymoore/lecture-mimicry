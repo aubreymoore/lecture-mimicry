{
 "cells": [
  {
   "cell_type": "markdown",
   "id": "3332a35e",
   "metadata": {},
   "source": [
    "# pdf2reveal\n",
    "This notebook transforms a presentation PDF made using LibreOffice Impress, Microsoft Powerpoint or Latex Beamer into HTML (reveal.js). This allows displaying the presentation on any device running a web browser. \n",
    "\n",
    "I wrote this so that I can present lecture slides on a Promethean without having to connect my computer. \n",
    "\n",
    "Files and directories created by this notebook:\n",
    "* template.html - a jinja2 template\n",
    "* ../images (dir)\n",
    "* 'images/ent_101_mimicry-000.jpg' ... page images extracted from the PDF\n",
    "* index.html - this is the reveal.js presentation\n",
    "\n",
    "This notebook reads a PDF file, creates an image directory\n",
    "\n",
    "### Technical details\n",
    "\n",
    "###### Initialization\n",
    "\n",
    "During the initial run of this notebook, the **install_reveal** function installed the latest version of **reveal.js** which was **4.1.3**. The **create_template** function then created a **jinja2** template by editing \n",
    "**reveal.js-master/index.html**. Note that my notebook code may break if a later version of **reveal.js** is installed.\n",
    "\n",
    "##### Fixing imagemagick problems\n",
    "This notebook uses the **convert** command, which is part of **imagemagick** to convert PDFs to images.\n",
    "Had some initial problems which were fixed by changing a few lines in the config file **/etc/ImageMagick-6/policy.xml**:\n",
    "```\n",
    "<policy domain=\"coder\" rights=\"none\" pattern=\"PDF\" />\n",
    "<policy domain=\"resource\" name=\"memory\" value=\"256MiB\"/>\n",
    "<policy domain=\"resource\" name=\"disk\" value=\"1GiB\"/>\n",
    "```\n",
    "where changed to:\n",
    "```\n",
    "<!--  <policy domain=\"coder\" rights=\"none\" pattern=\"PDF\" />  -->\n",
    "<policy domain=\"resource\" name=\"memory\" value=\"8GiB\"/>\n",
    "<policy domain=\"resource\" name=\"disk\" value=\"8GiB\"/>\n",
    "```\n",
    "### References\n",
    "* https://marcus-baw.medium.com/using-reveal-js-a74b30e4065b\n",
    "* https://martinomensio.medium.com/how-to-host-reveal-js-slides-on-github-pages-and-have-a-tidy-repository-1a363944c38d\n",
    "* https://superuser.com/questions/1178666/imagemagick-convert-quits-after-some-pages"
   ]
  },
  {
   "cell_type": "code",
   "execution_count": 20,
   "id": "ba28ba4e",
   "metadata": {},
   "outputs": [],
   "source": [
    "import os\n",
    "import requests, zipfile, io\n",
    "import jinja2\n",
    "import glob\n",
    "import shutil"
   ]
  },
  {
   "cell_type": "code",
   "execution_count": 21,
   "id": "4229e212",
   "metadata": {
    "tags": [
     "parameters"
    ]
   },
   "outputs": [],
   "source": [
    "PDFPATH = '../ent_101_mimicry.pdf'"
   ]
  },
  {
   "cell_type": "code",
   "execution_count": 22,
   "id": "1124eae3",
   "metadata": {},
   "outputs": [],
   "source": [
    "def create_template():\n",
    "    \"\"\"\n",
    "    Create a jinja2 template by editing the reveal.js default index.html\n",
    "    \"\"\"\n",
    "\n",
    "    # Read the default index.html as a string    \n",
    "    s = open('../index.html', 'r').read()\n",
    "\n",
    "    # edit the string and save it as template.html\n",
    "    s = s.replace('<section>Slide 1</section>\\n\\t\\t\\t\\t<section>Slide 2</section>',\n",
    "              '{% for image in images %}\\n\\t\\t\\t\\t\\t<section> <img src=\"{{ image }}\"> </section>\\n\\t\\t\\t\\t{% endfor %}')\n",
    "\n",
    "    with open('template.html', 'w') as f:\n",
    "        f.write(s)"
   ]
  },
  {
   "cell_type": "code",
   "execution_count": 23,
   "id": "2caae849",
   "metadata": {},
   "outputs": [],
   "source": [
    "def create_images():\n",
    "    \"\"\"\n",
    "    Convert the PDF pages into jpg images and store them in the images directory\n",
    "    \"\"\"\n",
    "    if not os.path.exists('../images'):\n",
    "        os.mkdir('../images') \n",
    "    pdf_name = os.path.basename(PDFPATH).replace('.pdf','')\n",
    "    command = f'convert -density 300 {PDFPATH} ../images/{pdf_name}-%03d.jpg'\n",
    "    print(command)\n",
    "    os.system(command)"
   ]
  },
  {
   "cell_type": "code",
   "execution_count": 24,
   "id": "9c13f3dc",
   "metadata": {},
   "outputs": [],
   "source": [
    "def create_presentation():\n",
    "    \"\"\"\n",
    "    Use the jinja2 template to add slides from the images directory    \n",
    "    \"\"\"\n",
    "    templateLoader = jinja2.FileSystemLoader(searchpath=\"./\")\n",
    "    templateEnv = jinja2.Environment(loader=templateLoader)\n",
    "    TEMPLATE_FILE = \"template.html\"\n",
    "    template = templateEnv.get_template(TEMPLATE_FILE)\n",
    "    \n",
    "    pdf_name = os.path.basename(PDFPATH).replace('.pdf','')\n",
    "    imagelist = sorted(glob.glob(f'../images/{pdf_name}-???.jpg')) \n",
    "    for i, image in enumerate(imagelist):\n",
    "        imagelist[i] = image.replace('../','')        \n",
    "    print(imagelist)\n",
    "    outputText = template.render({'images': imagelist})\n",
    "\n",
    "    # Overwrite the original index.html file.\n",
    "    # Open this file in a browser to see the reveal.js presentation.\n",
    "    with open(f'../index.html', 'w') as out:\n",
    "        out.write(outputText)"
   ]
  },
  {
   "cell_type": "code",
   "execution_count": 25,
   "id": "192bb593",
   "metadata": {},
   "outputs": [
    {
     "name": "stdout",
     "output_type": "stream",
     "text": [
      "convert -density 300 ../ent_101_mimicry.pdf ../images/ent_101_mimicry-%03d.jpg\n",
      "['images/ent_101_mimicry-000.jpg', 'images/ent_101_mimicry-001.jpg', 'images/ent_101_mimicry-002.jpg', 'images/ent_101_mimicry-003.jpg', 'images/ent_101_mimicry-004.jpg', 'images/ent_101_mimicry-005.jpg', 'images/ent_101_mimicry-006.jpg', 'images/ent_101_mimicry-007.jpg', 'images/ent_101_mimicry-008.jpg', 'images/ent_101_mimicry-009.jpg', 'images/ent_101_mimicry-010.jpg', 'images/ent_101_mimicry-011.jpg', 'images/ent_101_mimicry-012.jpg', 'images/ent_101_mimicry-013.jpg', 'images/ent_101_mimicry-014.jpg', 'images/ent_101_mimicry-015.jpg', 'images/ent_101_mimicry-016.jpg', 'images/ent_101_mimicry-017.jpg', 'images/ent_101_mimicry-018.jpg', 'images/ent_101_mimicry-019.jpg', 'images/ent_101_mimicry-020.jpg', 'images/ent_101_mimicry-021.jpg', 'images/ent_101_mimicry-022.jpg', 'images/ent_101_mimicry-023.jpg', 'images/ent_101_mimicry-024.jpg', 'images/ent_101_mimicry-025.jpg', 'images/ent_101_mimicry-026.jpg', 'images/ent_101_mimicry-027.jpg', 'images/ent_101_mimicry-028.jpg', 'images/ent_101_mimicry-029.jpg', 'images/ent_101_mimicry-030.jpg', 'images/ent_101_mimicry-031.jpg', 'images/ent_101_mimicry-032.jpg', 'images/ent_101_mimicry-033.jpg', 'images/ent_101_mimicry-034.jpg']\n"
     ]
    }
   ],
   "source": [
    "# MAIN\n",
    "create_template()\n",
    "create_images()\n",
    "create_presentation()"
   ]
  }
 ],
 "metadata": {
  "kernelspec": {
   "display_name": "Python 3",
   "language": "python",
   "name": "python3"
  },
  "language_info": {
   "codemirror_mode": {
    "name": "ipython",
    "version": 3
   },
   "file_extension": ".py",
   "mimetype": "text/x-python",
   "name": "python",
   "nbconvert_exporter": "python",
   "pygments_lexer": "ipython3",
   "version": "3.8.10"
  }
 },
 "nbformat": 4,
 "nbformat_minor": 5
}
